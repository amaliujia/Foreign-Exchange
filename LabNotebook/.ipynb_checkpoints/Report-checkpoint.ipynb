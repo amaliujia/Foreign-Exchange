{
 "cells": [
  {
   "cell_type": "markdown",
   "metadata": {},
   "source": [
    "### Problem Statements\n",
    "The problem needs to slove here is, given a bunch of unlabeled documents, and given a word, how to find semantic related words?\n",
    "\n",
    "Why this problem is important? \n",
    "\n",
    "###\tDesign experiments to test these hypotheses\n",
    "###\tDerive creative features or methods to gain access to latent information in the data\n",
    "###\tRecord your experiments and the exact parameters/methods used\n",
    "###\tRecord the results of your experiments\n",
    "###\tInterpret and connect the pattern of experiment results\n",
    "###\tDevelop a narrative elucidating what you have discovered\n",
    "###\tIdentify actionable information obtained\n",
    "###\tIdentify insights that may lead to actionable information, as well as a description of what that actionable information may ultimately be"
   ]
  }
 ],
 "metadata": {
  "kernelspec": {
   "display_name": "Python 2",
   "language": "python",
   "name": "python2"
  },
  "language_info": {
   "codemirror_mode": {
    "name": "ipython",
    "version": 2
   },
   "file_extension": ".py",
   "mimetype": "text/x-python",
   "name": "python",
   "nbconvert_exporter": "python",
   "pygments_lexer": "ipython2",
   "version": "2.7.5"
  }
 },
 "nbformat": 4,
 "nbformat_minor": 0
}
