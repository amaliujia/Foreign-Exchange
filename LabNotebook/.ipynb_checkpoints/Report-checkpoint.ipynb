{
 "cells": [
  {
   "cell_type": "markdown",
   "metadata": {},
   "source": [
    "### Problem Statements\n",
    "The problem needs to slove here is, given a bunch of unlabeled documents, and given a word, how to find semantic related words?\n",
    "\n",
    "Why this problem is important? In order to solve this problem, a serial of subproblems need to be solved too, like topic detection, semantic analysis, etc. All these problems are crital to speech and text processing, in other words, they are critial for computers to understand human's languages.\n",
    "\n",
    "###\tDesign experiments to test these hypotheses\n",
    "*   Collect the corpus. (Documented as text files)\n",
    "    I use PubMed bio-documents as my corpus. Here is the [link](ftp://ftp.ncbi.nlm.nih.gov/pub/pmc/) to their website.\n",
    "*   Model Selection\n",
    "    The algorithms and models are one of the most important parts for sloving this problem. As far as I know, there are two ways to solve this problem. \n",
    "    1. Ranking words by co-occurrence. The co-occurrence is mearsured by tf-idf, that is for the words that apprear along with target word in documents, then words with higher td-idf score are ranked higher.\n",
    "    \n",
    "    2.\n",
    "*   Blue\n",
    "\n",
    "###\tDerive creative features or methods to gain access to latent information in the data\n",
    "###\tRecord your experiments and the exact parameters/methods used\n",
    "###\tRecord the results of your experiments\n",
    "###\tInterpret and connect the pattern of experiment results\n",
    "###\tDevelop a narrative elucidating what you have discovered\n",
    "###\tIdentify actionable information obtained\n",
    "###\tIdentify insights that may lead to actionable information, as well as a description of what that actionable information may ultimately be"
   ]
  },
  {
   "cell_type": "code",
   "execution_count": null,
   "metadata": {
    "collapsed": true
   },
   "outputs": [],
   "source": []
  }
 ],
 "metadata": {
  "kernelspec": {
   "display_name": "Python 2",
   "language": "python",
   "name": "python2"
  },
  "language_info": {
   "codemirror_mode": {
    "name": "ipython",
    "version": 2
   },
   "file_extension": ".py",
   "mimetype": "text/x-python",
   "name": "python",
   "nbconvert_exporter": "python",
   "pygments_lexer": "ipython2",
   "version": "2.7.5"
  }
 },
 "nbformat": 4,
 "nbformat_minor": 0
}
